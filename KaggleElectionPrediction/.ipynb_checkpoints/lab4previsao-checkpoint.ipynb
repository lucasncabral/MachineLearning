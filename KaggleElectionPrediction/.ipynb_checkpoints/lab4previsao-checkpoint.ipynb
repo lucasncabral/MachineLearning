{
 "cells": [
  {
   "cell_type": "markdown",
   "metadata": {},
   "source": [
    "#### Universidade Federal de Campina Grande\n",
    "#### Departamento de Sistemas e Computação\n",
    "#### Lucas Nascimento Cabral\n",
    "#### Previsão de Eleição de Deputados"
   ]
  },
  {
   "cell_type": "code",
   "execution_count": 1,
   "metadata": {},
   "outputs": [],
   "source": [
    "import pandas as pd\n",
    "import numpy as np\n",
    "import seaborn as sns\n",
    "import matplotlib.pyplot as plt\n",
    "from sklearn import metrics"
   ]
  },
  {
   "cell_type": "code",
   "execution_count": 2,
   "metadata": {},
   "outputs": [
    {
     "data": {
      "text/html": [
       "<div>\n",
       "<style scoped>\n",
       "    .dataframe tbody tr th:only-of-type {\n",
       "        vertical-align: middle;\n",
       "    }\n",
       "\n",
       "    .dataframe tbody tr th {\n",
       "        vertical-align: top;\n",
       "    }\n",
       "\n",
       "    .dataframe thead th {\n",
       "        text-align: right;\n",
       "    }\n",
       "</style>\n",
       "<table border=\"1\" class=\"dataframe\">\n",
       "  <thead>\n",
       "    <tr style=\"text-align: right;\">\n",
       "      <th></th>\n",
       "      <th>ano</th>\n",
       "      <th>sequencial_candidato</th>\n",
       "      <th>nome</th>\n",
       "      <th>uf</th>\n",
       "      <th>partido</th>\n",
       "      <th>quantidade_doacoes</th>\n",
       "      <th>quantidade_doadores</th>\n",
       "      <th>total_receita</th>\n",
       "      <th>media_receita</th>\n",
       "      <th>recursos_de_outros_candidatos.comites</th>\n",
       "      <th>...</th>\n",
       "      <th>quantidade_despesas</th>\n",
       "      <th>quantidade_fornecedores</th>\n",
       "      <th>total_despesa</th>\n",
       "      <th>media_despesa</th>\n",
       "      <th>cargo</th>\n",
       "      <th>sexo</th>\n",
       "      <th>grau</th>\n",
       "      <th>estado_civil</th>\n",
       "      <th>ocupacao</th>\n",
       "      <th>situacao</th>\n",
       "    </tr>\n",
       "  </thead>\n",
       "  <tbody>\n",
       "    <tr>\n",
       "      <th>0</th>\n",
       "      <td>2006</td>\n",
       "      <td>10001</td>\n",
       "      <td>JOSÉ LUIZ NOGUEIRA DE SOUSA</td>\n",
       "      <td>AP</td>\n",
       "      <td>PT</td>\n",
       "      <td>6</td>\n",
       "      <td>6</td>\n",
       "      <td>16600.00</td>\n",
       "      <td>2766.67</td>\n",
       "      <td>0.0</td>\n",
       "      <td>...</td>\n",
       "      <td>14</td>\n",
       "      <td>14</td>\n",
       "      <td>16583.60</td>\n",
       "      <td>1184.54</td>\n",
       "      <td>DEPUTADO FEDERAL</td>\n",
       "      <td>MASCULINO</td>\n",
       "      <td>ENSINO MÉDIO COMPLETO</td>\n",
       "      <td>CASADO(A)</td>\n",
       "      <td>VEREADOR</td>\n",
       "      <td>nao_eleito</td>\n",
       "    </tr>\n",
       "    <tr>\n",
       "      <th>1</th>\n",
       "      <td>2006</td>\n",
       "      <td>10002</td>\n",
       "      <td>LOIVA DE OLIVEIRA</td>\n",
       "      <td>RO</td>\n",
       "      <td>PT</td>\n",
       "      <td>13</td>\n",
       "      <td>13</td>\n",
       "      <td>22826.00</td>\n",
       "      <td>1755.85</td>\n",
       "      <td>6625.0</td>\n",
       "      <td>...</td>\n",
       "      <td>24</td>\n",
       "      <td>23</td>\n",
       "      <td>20325.99</td>\n",
       "      <td>846.92</td>\n",
       "      <td>DEPUTADO FEDERAL</td>\n",
       "      <td>FEMININO</td>\n",
       "      <td>SUPERIOR COMPLETO</td>\n",
       "      <td>SOLTEIRO(A)</td>\n",
       "      <td>SERVIDOR PÚBLICO ESTADUAL</td>\n",
       "      <td>nao_eleito</td>\n",
       "    </tr>\n",
       "    <tr>\n",
       "      <th>2</th>\n",
       "      <td>2006</td>\n",
       "      <td>10002</td>\n",
       "      <td>MARIA DALVA DE SOUZA FIGUEIREDO</td>\n",
       "      <td>AP</td>\n",
       "      <td>PT</td>\n",
       "      <td>17</td>\n",
       "      <td>16</td>\n",
       "      <td>158120.80</td>\n",
       "      <td>9301.22</td>\n",
       "      <td>2250.0</td>\n",
       "      <td>...</td>\n",
       "      <td>123</td>\n",
       "      <td>108</td>\n",
       "      <td>146011.70</td>\n",
       "      <td>1187.09</td>\n",
       "      <td>DEPUTADO FEDERAL</td>\n",
       "      <td>FEMININO</td>\n",
       "      <td>SUPERIOR COMPLETO</td>\n",
       "      <td>VIÚVO(A)</td>\n",
       "      <td>PEDAGOGO</td>\n",
       "      <td>eleito</td>\n",
       "    </tr>\n",
       "    <tr>\n",
       "      <th>3</th>\n",
       "      <td>2006</td>\n",
       "      <td>10002</td>\n",
       "      <td>ROMALDO MILANI</td>\n",
       "      <td>MS</td>\n",
       "      <td>PRONA</td>\n",
       "      <td>6</td>\n",
       "      <td>6</td>\n",
       "      <td>3001.12</td>\n",
       "      <td>500.19</td>\n",
       "      <td>0.0</td>\n",
       "      <td>...</td>\n",
       "      <td>8</td>\n",
       "      <td>8</td>\n",
       "      <td>3001.12</td>\n",
       "      <td>375.14</td>\n",
       "      <td>DEPUTADO FEDERAL</td>\n",
       "      <td>MASCULINO</td>\n",
       "      <td>ENSINO MÉDIO INCOMPLETO</td>\n",
       "      <td>CASADO(A)</td>\n",
       "      <td>MILITAR REFORMADO</td>\n",
       "      <td>nao_eleito</td>\n",
       "    </tr>\n",
       "    <tr>\n",
       "      <th>4</th>\n",
       "      <td>2006</td>\n",
       "      <td>10003</td>\n",
       "      <td>ANSELMO DE JESUS ABREU</td>\n",
       "      <td>RO</td>\n",
       "      <td>PT</td>\n",
       "      <td>48</td>\n",
       "      <td>48</td>\n",
       "      <td>119820.00</td>\n",
       "      <td>2496.25</td>\n",
       "      <td>0.0</td>\n",
       "      <td>...</td>\n",
       "      <td>133</td>\n",
       "      <td>120</td>\n",
       "      <td>116416.64</td>\n",
       "      <td>875.31</td>\n",
       "      <td>DEPUTADO FEDERAL</td>\n",
       "      <td>MASCULINO</td>\n",
       "      <td>ENSINO FUNDAMENTAL COMPLETO</td>\n",
       "      <td>CASADO(A)</td>\n",
       "      <td>DEPUTADO</td>\n",
       "      <td>eleito</td>\n",
       "    </tr>\n",
       "  </tbody>\n",
       "</table>\n",
       "<p>5 rows × 24 columns</p>\n",
       "</div>"
      ],
      "text/plain": [
       "    ano  sequencial_candidato                             nome  uf partido  \\\n",
       "0  2006                 10001      JOSÉ LUIZ NOGUEIRA DE SOUSA  AP      PT   \n",
       "1  2006                 10002                LOIVA DE OLIVEIRA  RO      PT   \n",
       "2  2006                 10002  MARIA DALVA DE SOUZA FIGUEIREDO  AP      PT   \n",
       "3  2006                 10002                   ROMALDO MILANI  MS   PRONA   \n",
       "4  2006                 10003           ANSELMO DE JESUS ABREU  RO      PT   \n",
       "\n",
       "   quantidade_doacoes  quantidade_doadores  total_receita  media_receita  \\\n",
       "0                   6                    6       16600.00        2766.67   \n",
       "1                  13                   13       22826.00        1755.85   \n",
       "2                  17                   16      158120.80        9301.22   \n",
       "3                   6                    6        3001.12         500.19   \n",
       "4                  48                   48      119820.00        2496.25   \n",
       "\n",
       "   recursos_de_outros_candidatos.comites     ...      quantidade_despesas  \\\n",
       "0                                    0.0     ...                       14   \n",
       "1                                 6625.0     ...                       24   \n",
       "2                                 2250.0     ...                      123   \n",
       "3                                    0.0     ...                        8   \n",
       "4                                    0.0     ...                      133   \n",
       "\n",
       "   quantidade_fornecedores  total_despesa  media_despesa             cargo  \\\n",
       "0                       14       16583.60        1184.54  DEPUTADO FEDERAL   \n",
       "1                       23       20325.99         846.92  DEPUTADO FEDERAL   \n",
       "2                      108      146011.70        1187.09  DEPUTADO FEDERAL   \n",
       "3                        8        3001.12         375.14  DEPUTADO FEDERAL   \n",
       "4                      120      116416.64         875.31  DEPUTADO FEDERAL   \n",
       "\n",
       "        sexo                         grau  estado_civil  \\\n",
       "0  MASCULINO        ENSINO MÉDIO COMPLETO     CASADO(A)   \n",
       "1   FEMININO            SUPERIOR COMPLETO   SOLTEIRO(A)   \n",
       "2   FEMININO            SUPERIOR COMPLETO      VIÚVO(A)   \n",
       "3  MASCULINO      ENSINO MÉDIO INCOMPLETO     CASADO(A)   \n",
       "4  MASCULINO  ENSINO FUNDAMENTAL COMPLETO     CASADO(A)   \n",
       "\n",
       "                    ocupacao    situacao  \n",
       "0                   VEREADOR  nao_eleito  \n",
       "1  SERVIDOR PÚBLICO ESTADUAL  nao_eleito  \n",
       "2                   PEDAGOGO      eleito  \n",
       "3          MILITAR REFORMADO  nao_eleito  \n",
       "4                   DEPUTADO      eleito  \n",
       "\n",
       "[5 rows x 24 columns]"
      ]
     },
     "execution_count": 2,
     "metadata": {},
     "output_type": "execute_result"
    }
   ],
   "source": [
    "train = pd.read_csv(\"train.csv\")\n",
    "test = pd.read_csv(\"test.csv\")\n",
    "\n",
    "train.head()"
   ]
  },
  {
   "cell_type": "code",
   "execution_count": 3,
   "metadata": {},
   "outputs": [],
   "source": [
    "y = train[\"situacao\"]\n",
    "y = y.replace(['nao_eleito', 'eleito'], [0, 1])\n",
    "\n",
    "#removendo variável alvo dos dados de treino\n",
    "train = train.drop(columns=['situacao'])\n",
    "#merge treino e teste\n",
    "data = pd.concat((train, test))"
   ]
  },
  {
   "cell_type": "markdown",
   "metadata": {},
   "source": [
    "Atributos desnecessários como sequencial_candidato, media_receita, media_despesas e nome podem ser removidos."
   ]
  },
  {
   "cell_type": "code",
   "execution_count": 4,
   "metadata": {},
   "outputs": [],
   "source": [
    "data = data.drop(columns=['sequencial_candidato', 'nome', 'cargo',\n",
    "                            'quantidade_doacoes', 'total_receita',\n",
    "                            'quantidade_despesas', 'total_despesa'])"
   ]
  },
  {
   "cell_type": "markdown",
   "metadata": {},
   "source": [
    "Aplicando normalização em todas as variáveis numéricas, exceto ano, por ser considerada como ordinal"
   ]
  },
  {
   "cell_type": "code",
   "execution_count": 5,
   "metadata": {},
   "outputs": [],
   "source": [
    "#selecionando atributos numéricos\n",
    "attr_num = data.dtypes[data.dtypes != \"object\"].index\n",
    "#normalizando variáveis numéricas exceto ano\n",
    "data[attr_num[1:]] = np.log1p(data[attr_num[1:]])\n",
    "\n",
    "#dummy das variáveis categoricas\n",
    "data = pd.get_dummies(data)\n",
    "\n",
    "x = data.loc[data['ano'] != 2014]\n",
    "test = data.loc[data['ano'] == 2014]"
   ]
  },
  {
   "cell_type": "markdown",
   "metadata": {},
   "source": [
    "#### (1) Há desbalanceamento das classes (isto é, uma classe tem muito mais instâncias que outra)? Em que proporção? Quais efeitos colaterais o desbalanceamento de classes pode causar no classificador? Como você poderia tratar isso? "
   ]
  },
  {
   "cell_type": "code",
   "execution_count": 6,
   "metadata": {},
   "outputs": [
    {
     "data": {
      "text/plain": [
       "0    6596\n",
       "1    1026\n",
       "Name: situacao, dtype: int64"
      ]
     },
     "execution_count": 6,
     "metadata": {},
     "output_type": "execute_result"
    },
    {
     "data": {
      "image/png": "[encoded data removed]",
      "text/plain": [
       "<Figure size 432x288 with 1 Axes>"
      ]
     },
     "metadata": {},
     "output_type": "display_data"
    }
   ],
   "source": [
    "sns.countplot(y)\n",
    "\n",
    "y.value_counts()"
   ]
  },
  {
   "cell_type": "markdown",
   "metadata": {},
   "source": [
    "Como podemos observar em nosso conjunto de treino existe o desbalanceamento muito grande na quantidade de instâncias de cada classe, chegando a relação de instâncias nao_eleito para eleito igual a 86:14. Esse desbalanceamento pode levar nossos algoritmos de aprendizado de máquina a não conseguirem obter classificadores satisfatórios, porque apesar dos exemplos das classes majoritárias (de maior proporção) serem classificados corretamente com grande frequência, normalmente os exemplos das\n",
    "classes minoritárias (de menor proporção) não são classificados corretamente."
   ]
  },
  {
   "cell_type": "markdown",
   "metadata": {},
   "source": [
    "Para resolver esse problema utilizamos técnicas de Under-sampling, neste laboratório vou utilizar Cluster Centroids. Essa técnica realiza subamostragem gerando centróides com base em métodos de agrupamento. Os dados serão previamente agrupados por semelhança, a fim de preservar a informação."
   ]
  },
  {
   "cell_type": "code",
   "execution_count": 7,
   "metadata": {},
   "outputs": [
    {
     "data": {
      "text/plain": [
       "<matplotlib.axes._subplots.AxesSubplot at 0x1a9caba2128>"
      ]
     },
     "execution_count": 7,
     "metadata": {},
     "output_type": "execute_result"
    },
    {
     "data": {
      "image/png": "[encoded data removed]",
      "text/plain": [
       "<Figure size 432x288 with 1 Axes>"
      ]
     },
     "metadata": {},
     "output_type": "display_data"
    }
   ],
   "source": [
    "from imblearn.under_sampling import ClusterCentroids\n",
    "\n",
    "cc = ClusterCentroids()\n",
    "x_balanced, y_balanced = cc.fit_sample(x, y)\n",
    "\n",
    "sns.countplot(y_balanced)"
   ]
  },
  {
   "cell_type": "markdown",
   "metadata": {},
   "source": [
    "#### (2) Treine: um modelo de regressão logística, KNN, uma árvore de decisão e um modelo de adaboost. Tune esses modelos usando validação cruzada e controle overfitting se necessário, considerando as particularidades de cada modelo. "
   ]
  },
  {
   "cell_type": "markdown",
   "metadata": {},
   "source": [
    "Para isso, utilizamos a seguinte função para calcular o f1 na validação cruzada, que realiza um shuffle ao selecionar os folds, dado que o Cluster Centroide agrupa os dados em suas respectivas classes."
   ]
  },
  {
   "cell_type": "code",
   "execution_count": 8,
   "metadata": {},
   "outputs": [],
   "source": [
    "from sklearn.model_selection import cross_val_score\n",
    "from sklearn.model_selection import StratifiedKFold\n",
    "\n",
    "def f1_cv(model, x, y):\n",
    "    f1 = cross_val_score(model, x, y, scoring='f1', cv=StratifiedKFold(n_splits=5, shuffle=True, random_state=2432))\n",
    "    return(f1)"
   ]
  },
  {
   "cell_type": "markdown",
   "metadata": {},
   "source": [
    "#### (2.1) Regressão Logística"
   ]
  },
  {
   "cell_type": "code",
   "execution_count": 9,
   "metadata": {},
   "outputs": [],
   "source": [
    "from sklearn.linear_model import LogisticRegression\n",
    "\n",
    "alphas = np.arange(0.01,0.1,0.01).tolist()\n",
    "cv_logRegression = [f1_cv(LogisticRegression(solver=\"lbfgs\", max_iter=10000, C=alpha),\n",
    "                         x_balanced, \n",
    "                         y_balanced).mean()\n",
    "                    for alpha in alphas]\n",
    "\n",
    "cv_logRegression = pd.Series(cv_logRegression, index = alphas)"
   ]
  },
  {
   "cell_type": "code",
   "execution_count": 10,
   "metadata": {},
   "outputs": [
    {
     "data": {
      "image/png": "[encoded data removed]",
      "text/plain": [
       "<Figure size 432x288 with 1 Axes>"
      ]
     },
     "metadata": {},
     "output_type": "display_data"
    },
    {
     "name": "stdout",
     "output_type": "stream",
     "text": [
      "O melhor alpha é 0.06999999999999999, com F1 = 0.8797201917444465\n"
     ]
    }
   ],
   "source": [
    "cv_logRegression.plot(title = \"Cross validation - Logistic Regression\")\n",
    "plt.xlabel(\"Lambda\")\n",
    "plt.ylabel(\"F1-score\")\n",
    "plt.show()\n",
    "\n",
    "print(\"O melhor alpha é {0}, com F1 = {1}\".format(cv_logRegression.idxmax(), cv_logRegression.max()))"
   ]
  },
  {
   "cell_type": "markdown",
   "metadata": {},
   "source": [
    "#### (2.2) KNN"
   ]
  },
  {
   "cell_type": "code",
   "execution_count": 11,
   "metadata": {},
   "outputs": [],
   "source": [
    "from sklearn.neighbors import KNeighborsClassifier\n",
    "import warnings\n",
    "warnings.filterwarnings('ignore')\n",
    "\n",
    "k_list = np.arange(15,40,1).tolist()\n",
    "\n",
    "cv_knn = [f1_cv(KNeighborsClassifier(n_neighbors=n),\n",
    "               x_balanced,\n",
    "               y_balanced).mean() \n",
    "            for n in k_list]\n",
    "cv_knn = pd.Series(cv_knn, index = k_list)"
   ]
  },
  {
   "cell_type": "code",
   "execution_count": 12,
   "metadata": {},
   "outputs": [
    {
     "name": "stdout",
     "output_type": "stream",
     "text": [
      "O melhor numero de vizinhos é 24, com F1 = 0.8394831952944666\n"
     ]
    },
    {
     "data": {
      "image/png": "[encoded data removed]",
      "text/plain": [
       "<Figure size 432x288 with 1 Axes>"
      ]
     },
     "metadata": {},
     "output_type": "display_data"
    }
   ],
   "source": [
    "cv_knn.plot(title = \"Cross validation - KNN\")\n",
    "plt.xlabel(\"Nº vizinhos\")\n",
    "plt.ylabel(\"F1-score\")\n",
    "\n",
    "print(\"O melhor numero de vizinhos é {0}, com F1 = {1}\".format(cv_knn.idxmin(), cv_knn.min()))"
   ]
  },
  {
   "cell_type": "markdown",
   "metadata": {},
   "source": [
    "#### (2.3) Árvore de decisão"
   ]
  },
  {
   "cell_type": "code",
   "execution_count": 13,
   "metadata": {},
   "outputs": [],
   "source": [
    "from sklearn.tree import DecisionTreeClassifier\n",
    "\n",
    "depths = np.arange(1,20,1).tolist()\n",
    "\n",
    "cv_decisionTree = [f1_cv(DecisionTreeClassifier(max_depth = depth),\n",
    "                x_balanced,\n",
    "                y_balanced).mean() \n",
    "            for depth in depths]\n",
    "\n",
    "\n",
    "cv_decisionTree = pd.Series(cv_decisionTree, index = depths)"
   ]
  },
  {
   "cell_type": "code",
   "execution_count": 14,
   "metadata": {},
   "outputs": [
    {
     "name": "stdout",
     "output_type": "stream",
     "text": [
      "A profundidade máxima ideal é 5, com F1 = 0.9162717199882591\n"
     ]
    },
    {
     "data": {
      "image/png": "[encoded data removed]",
      "text/plain": [
       "<Figure size 432x288 with 1 Axes>"
      ]
     },
     "metadata": {},
     "output_type": "display_data"
    }
   ],
   "source": [
    "cv_decisionTree.plot(title = \"Cross validation - Decision Tree\")\n",
    "plt.xlabel(\"Depth\")\n",
    "plt.ylabel(\"F1-score\")\n",
    "\n",
    "print(\"A profundidade máxima ideal é {0}, com F1 = {1}\".format(cv_decisionTree.idxmax(), cv_decisionTree.max()))"
   ]
  },
  {
   "cell_type": "markdown",
   "metadata": {},
   "source": [
    "#### (2.4) Adaboost"
   ]
  },
  {
   "cell_type": "code",
   "execution_count": 15,
   "metadata": {},
   "outputs": [],
   "source": [
    "from sklearn.ensemble import AdaBoostClassifier\n",
    "\n",
    "estimators = np.arange(30,80,1).tolist()\n",
    "\n",
    "cv_adaboost = [f1_cv(AdaBoostClassifier(DecisionTreeClassifier(max_depth= 1),\n",
    "                         algorithm=\"SAMME\",\n",
    "                         n_estimators=e),\n",
    "                    x_balanced,\n",
    "                    y_balanced).mean()\n",
    "                  for e in estimators]\n",
    "\n",
    "\n",
    "cv_adaboost = pd.Series(cv_adaboost, index = estimators)"
   ]
  },
  {
   "cell_type": "code",
   "execution_count": 16,
   "metadata": {},
   "outputs": [
    {
     "data": {
      "image/png": "[encoded data removed]",
      "text/plain": [
       "<Figure size 432x288 with 1 Axes>"
      ]
     },
     "metadata": {},
     "output_type": "display_data"
    },
    {
     "name": "stdout",
     "output_type": "stream",
     "text": [
      "O melhor numero de estimadores é 73, com F1 = 0.949114238033723\n"
     ]
    }
   ],
   "source": [
    "cv_adaboost.plot(title = \"Cross validation - Adaboost\")\n",
    "plt.xlabel(\"Depths\")\n",
    "plt.ylabel(\"F1-score\")\n",
    "plt.show()\n",
    "\n",
    "print(\"O melhor numero de estimadores é {0}, com F1 = {1}\".format(cv_adaboost.idxmax(), cv_adaboost.max()))"
   ]
  },
  {
   "cell_type": "markdown",
   "metadata": {},
   "source": [
    "#### (5) Envie seus melhores modelos à competição do Kaggle. Faça pelo menos uma submissão. Sugestões para melhorar o modelo:"
   ]
  },
  {
   "cell_type": "markdown",
   "metadata": {},
   "source": [
    "#### (5.1) Experimente outros modelos (e.g. SVM, RandomForests e GradientBoosting)."
   ]
  },
  {
   "cell_type": "markdown",
   "metadata": {},
   "source": [
    "#### (5.1.1) Random Forest"
   ]
  },
  {
   "cell_type": "code",
   "execution_count": 17,
   "metadata": {},
   "outputs": [],
   "source": [
    "from sklearn.ensemble import RandomForestClassifier\n",
    "\n",
    "trees = np.arange(50,150,1).tolist()\n",
    "cv_random_forest = [f1_cv(RandomForestClassifier(n_estimators=tree, max_depth=cv_decisionTree.idxmax(), random_state=0),\n",
    "                         x_balanced,\n",
    "                         y_balanced).mean() \n",
    "                    for tree in trees]\n",
    "\n",
    "cv_random_forest = pd.Series(cv_random_forest, index = trees)"
   ]
  },
  {
   "cell_type": "code",
   "execution_count": 18,
   "metadata": {},
   "outputs": [
    {
     "name": "stdout",
     "output_type": "stream",
     "text": [
      "A quantidade de árvores ideal é 147, com F1 = 0.932778054729372\n"
     ]
    },
    {
     "data": {
      "image/png": "[encoded data removed]",
      "text/plain": [
       "<Figure size 432x288 with 1 Axes>"
      ]
     },
     "metadata": {},
     "output_type": "display_data"
    }
   ],
   "source": [
    "cv_random_forest.plot(title = \"Cross validation - Random Forest\")\n",
    "plt.xlabel(\"Tree\")\n",
    "plt.ylabel(\"F1-score\")\n",
    "print(\"A quantidade de árvores ideal é {0}, com F1 = {1}\".format(cv_random_forest.idxmax(), cv_random_forest.max()))"
   ]
  },
  {
   "cell_type": "markdown",
   "metadata": {},
   "source": [
    "#### (5.1.2) Ridge"
   ]
  },
  {
   "cell_type": "code",
   "execution_count": 19,
   "metadata": {},
   "outputs": [],
   "source": [
    "from sklearn.linear_model import RidgeClassifier\n",
    "\n",
    "alphas = np.arange(50,100,0.1).tolist()\n",
    "cv_ridge = [f1_cv(RidgeClassifier(alpha = alpha),\n",
    "                          x_balanced, \n",
    "                          y_balanced).mean()\n",
    "                    for alpha in alphas]\n",
    "\n",
    "cv_ridge = pd.Series(cv_ridge, index = alphas)"
   ]
  },
  {
   "cell_type": "code",
   "execution_count": 20,
   "metadata": {},
   "outputs": [
    {
     "data": {
      "image/png": "[encoded data removed]",
      "text/plain": [
       "<Figure size 432x288 with 1 Axes>"
      ]
     },
     "metadata": {},
     "output_type": "display_data"
    },
    {
     "name": "stdout",
     "output_type": "stream",
     "text": [
      "O melhor alpha é 54.30000000000006, com F1 = 0.8872515202817375\n"
     ]
    }
   ],
   "source": [
    "cv_ridge.plot(title = \"Cross validation - Regression Ridge\")\n",
    "plt.xlabel(\"Alpha\")\n",
    "plt.ylabel(\"F1-score\")\n",
    "plt.show()\n",
    "print(\"O melhor alpha é {0}, com F1 = {1}\".format(cv_ridge.idxmax(), cv_ridge.max()))"
   ]
  },
  {
   "cell_type": "markdown",
   "metadata": {},
   "source": [
    "#### Para analisarmos qual o melhor modelo, construimos o seguinte método:"
   ]
  },
  {
   "cell_type": "code",
   "execution_count": 21,
   "metadata": {},
   "outputs": [],
   "source": [
    "def evaluate_model(model):\n",
    "    model.fit(x_balanced, y_balanced)\n",
    "    print(\"\\n%s\\n\"% (metrics.classification_report(y, model.predict(x))))\n",
    "    # print( metrics.classification_report(y, model.predict(x), output_dict=True)[\"macro avg\"][\"f1-score\"])"
   ]
  },
  {
   "cell_type": "markdown",
   "metadata": {},
   "source": [
    "Executamos o método para todos os modelos criados anteriormente:"
   ]
  },
  {
   "cell_type": "code",
   "execution_count": 22,
   "metadata": {},
   "outputs": [
    {
     "name": "stdout",
     "output_type": "stream",
     "text": [
      "Classification report for classifier linear regression:\n",
      "\n",
      "             precision    recall  f1-score   support\n",
      "\n",
      "          0       0.99      0.90      0.94      6596\n",
      "          1       0.58      0.92      0.71      1026\n",
      "\n",
      "avg / total       0.93      0.90      0.91      7622\n",
      "\n",
      "\n",
      "Classification report for classifier KNN:\n",
      "\n",
      "             precision    recall  f1-score   support\n",
      "\n",
      "          0       0.98      0.90      0.94      6596\n",
      "          1       0.58      0.88      0.70      1026\n",
      "\n",
      "avg / total       0.93      0.90      0.91      7622\n",
      "\n",
      "\n",
      "Classification report for classifier Decision Tree:\n",
      "\n",
      "             precision    recall  f1-score   support\n",
      "\n",
      "          0       0.99      0.83      0.90      6596\n",
      "          1       0.47      0.97      0.63      1026\n",
      "\n",
      "avg / total       0.92      0.85      0.87      7622\n",
      "\n",
      "\n",
      "Classification report for classifier Adaboost:\n",
      "\n",
      "             precision    recall  f1-score   support\n",
      "\n",
      "          0       1.00      0.76      0.86      6596\n",
      "          1       0.39      1.00      0.56      1026\n",
      "\n",
      "avg / total       0.92      0.79      0.82      7622\n",
      "\n",
      "\n",
      "Classification report for classifier Rando Forest:\n",
      "\n",
      "             precision    recall  f1-score   support\n",
      "\n",
      "          0       1.00      0.78      0.87      6596\n",
      "          1       0.41      0.99      0.58      1026\n",
      "\n",
      "avg / total       0.92      0.81      0.83      7622\n",
      "\n",
      "\n",
      "Classification report for classifier Ridge:\n",
      "\n",
      "             precision    recall  f1-score   support\n",
      "\n",
      "          0       0.99      0.88      0.93      6596\n",
      "          1       0.55      0.95      0.69      1026\n",
      "\n",
      "avg / total       0.93      0.89      0.90      7622\n",
      "\n",
      "\n"
     ]
    }
   ],
   "source": [
    "reg_log = LogisticRegression(solver=\"lbfgs\", max_iter=10000, C=cv_logRegression.idxmax(), random_state=1)\n",
    "print(\"Classification report for classifier linear regression:\")\n",
    "evaluate_model(reg_log)\n",
    "\n",
    "knn = KNeighborsClassifier(n_neighbors=cv_knn.idxmax())\n",
    "print(\"Classification report for classifier KNN:\")\n",
    "evaluate_model(knn)\n",
    "\n",
    "tree = DecisionTreeClassifier(max_depth=cv_decisionTree.idxmax())\n",
    "print(\"Classification report for classifier Decision Tree:\")\n",
    "evaluate_model(tree)\n",
    "\n",
    "ada = AdaBoostClassifier(DecisionTreeClassifier(max_depth=cv_decisionTree.idxmax()), \n",
    "                                    algorithm=\"SAMME\", \n",
    "                                    n_estimators=cv_adaboost.idxmax())\n",
    "print(\"Classification report for classifier Adaboost:\")\n",
    "evaluate_model(ada)\n",
    "\n",
    "\n",
    "random_forest = RandomForestClassifier(n_estimators=cv_random_forest.idxmax(), max_depth=cv_decisionTree.idxmax(), \n",
    "                                       random_state=10)\n",
    "print(\"Classification report for classifier Rando Forest:\")\n",
    "evaluate_model(random_forest)\n",
    "\n",
    "ridge = RidgeClassifier(alpha=cv_ridge.idxmax())\n",
    "print(\"Classification report for classifier Ridge:\")\n",
    "evaluate_model(ridge)"
   ]
  },
  {
   "cell_type": "markdown",
   "metadata": {},
   "source": [
    "Ao final, obtivemos os seguintes resultados para os modelos construidos:\n",
    "\n",
    "\n",
    "|    Modelo      |         classification_report          | \n",
    "|----------------|----------------------------------------|\n",
    "|    Logistic    |           0.7898396993630391           |  \n",
    "|      KNN       |           0.7898396993630391           | \n",
    "|      Tree      |           0.7898396993630391           |    \n",
    "|    Adaboost    |           0.7898396993630391           |  \n",
    "|  Random Forest |           0.7898396993630391           |   \n",
    "|     Ridge      |           0.7898396993630391           |   "
   ]
  },
  {
   "cell_type": "markdown",
   "metadata": {},
   "source": [
    "#### (5.3) Experimente balancear as classes,  caso estejam desbalanceadas."
   ]
  },
  {
   "cell_type": "markdown",
   "metadata": {},
   "source": [
    "Como visto anteriormente no tópico (1), as classes estavam desbalanceadas, mas para resolver isso, utilizamos uma técnica de Under-sampling, Cluster Centroids. Essa técnica realiza subamostragem gerando centróides com base em métodos de agrupamento. Os dados foram previamente agrupados por semelhança, a fim de preservar a informação."
   ]
  },
  {
   "cell_type": "markdown",
   "metadata": {},
   "source": [
    "#### Para gerar o documento de submissão, utilizaremos o seguinte método:"
   ]
  },
  {
   "cell_type": "code",
   "execution_count": 31,
   "metadata": {},
   "outputs": [],
   "source": [
    "submission = pd.read_csv(\"sample_submission.csv\")\n",
    "model = KNeighborsClassifier(n_neighbors=cv_knn.idxmax())\n",
    "model.fit(x_balanced, y_balanced)\n",
    "\n",
    "predicts_submission = pd.DataFrame(model.predict(test))\n",
    "predicts_submission = predicts_submission.replace([0, 1],['nao_eleito', 'eleito'])\n",
    "submission[\"Predicted\"] = predicts_submission\n",
    "submission.to_csv(\"my_submission.csv\")"
   ]
  },
  {
   "cell_type": "code",
   "execution_count": null,
   "metadata": {},
   "outputs": [],
   "source": []
  }
 ],
 "metadata": {
  "kernelspec": {
   "display_name": "Python 3",
   "language": "python",
   "name": "python3"
  },
  "language_info": {
   "codemirror_mode": {
    "name": "ipython",
    "version": 3
   },
   "file_extension": ".py",
   "mimetype": "text/x-python",
   "name": "python",
   "nbconvert_exporter": "python",
   "pygments_lexer": "ipython3",
   "version": "3.6.5"
  }
 },
 "nbformat": 4,
 "nbformat_minor": 2
}
